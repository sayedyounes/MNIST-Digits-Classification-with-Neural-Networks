{
 "cells": [
  {
   "cell_type": "code",
   "execution_count": 1,
   "id": "d1906d6c",
   "metadata": {
    "execution": {
     "iopub.execute_input": "2025-09-20T19:23:14.078938Z",
     "iopub.status.busy": "2025-09-20T19:23:14.078626Z",
     "iopub.status.idle": "2025-09-20T19:23:35.780368Z",
     "shell.execute_reply": "2025-09-20T19:23:35.779213Z"
    },
    "papermill": {
     "duration": 21.713798,
     "end_time": "2025-09-20T19:23:35.782182",
     "exception": false,
     "start_time": "2025-09-20T19:23:14.068384",
     "status": "completed"
    },
    "tags": []
   },
   "outputs": [
    {
     "name": "stderr",
     "output_type": "stream",
     "text": [
      "2025-09-20 19:23:16.540728: E external/local_xla/xla/stream_executor/cuda/cuda_fft.cc:477] Unable to register cuFFT factory: Attempting to register factory for plugin cuFFT when one has already been registered\n",
      "WARNING: All log messages before absl::InitializeLog() is called are written to STDERR\n",
      "E0000 00:00:1758396196.870418      13 cuda_dnn.cc:8310] Unable to register cuDNN factory: Attempting to register factory for plugin cuDNN when one has already been registered\n",
      "E0000 00:00:1758396196.963748      13 cuda_blas.cc:1418] Unable to register cuBLAS factory: Attempting to register factory for plugin cuBLAS when one has already been registered\n"
     ]
    }
   ],
   "source": [
    "import tensorflow as tf\n",
    "from tensorflow import keras\n",
    "import matplotlib.pyplot as plt \n",
    "import numpy as np"
   ]
  },
  {
   "cell_type": "markdown",
   "id": "f14031ba",
   "metadata": {
    "papermill": {
     "duration": 0.007312,
     "end_time": "2025-09-20T19:23:35.797787",
     "exception": false,
     "start_time": "2025-09-20T19:23:35.790475",
     "status": "completed"
    },
    "tags": []
   },
   "source": [
    "## keras.datasets.mnist\n",
    "MNIST is a famous dataset of handwritten digits (0 through 9).\n",
    "\n",
    "It has 70,000 grayscale images, each of size 28×28 pixels."
   ]
  },
  {
   "cell_type": "code",
   "execution_count": 2,
   "id": "be7de0ed",
   "metadata": {
    "execution": {
     "iopub.execute_input": "2025-09-20T19:23:35.814552Z",
     "iopub.status.busy": "2025-09-20T19:23:35.813952Z",
     "iopub.status.idle": "2025-09-20T19:23:36.358320Z",
     "shell.execute_reply": "2025-09-20T19:23:36.357564Z"
    },
    "papermill": {
     "duration": 0.554489,
     "end_time": "2025-09-20T19:23:36.359973",
     "exception": false,
     "start_time": "2025-09-20T19:23:35.805484",
     "status": "completed"
    },
    "tags": []
   },
   "outputs": [
    {
     "name": "stdout",
     "output_type": "stream",
     "text": [
      "Downloading data from https://storage.googleapis.com/tensorflow/tf-keras-datasets/mnist.npz\n",
      "\u001b[1m11490434/11490434\u001b[0m \u001b[32m━━━━━━━━━━━━━━━━━━━━\u001b[0m\u001b[37m\u001b[0m \u001b[1m0s\u001b[0m 0us/step\n"
     ]
    }
   ],
   "source": [
    "(X_train, y_train) , (X_test, y_test) = keras.datasets.mnist.load_data()"
   ]
  },
  {
   "cell_type": "code",
   "execution_count": 3,
   "id": "0f47b233",
   "metadata": {
    "execution": {
     "iopub.execute_input": "2025-09-20T19:23:36.377291Z",
     "iopub.status.busy": "2025-09-20T19:23:36.376985Z",
     "iopub.status.idle": "2025-09-20T19:23:36.382941Z",
     "shell.execute_reply": "2025-09-20T19:23:36.382275Z"
    },
    "papermill": {
     "duration": 0.015513,
     "end_time": "2025-09-20T19:23:36.384215",
     "exception": false,
     "start_time": "2025-09-20T19:23:36.368702",
     "status": "completed"
    },
    "tags": []
   },
   "outputs": [
    {
     "data": {
      "text/plain": [
       "60000"
      ]
     },
     "execution_count": 3,
     "metadata": {},
     "output_type": "execute_result"
    }
   ],
   "source": [
    "len(X_train)"
   ]
  },
  {
   "cell_type": "code",
   "execution_count": 4,
   "id": "aacd5f0a",
   "metadata": {
    "execution": {
     "iopub.execute_input": "2025-09-20T19:23:36.401065Z",
     "iopub.status.busy": "2025-09-20T19:23:36.400748Z",
     "iopub.status.idle": "2025-09-20T19:23:36.406116Z",
     "shell.execute_reply": "2025-09-20T19:23:36.405436Z"
    },
    "papermill": {
     "duration": 0.015615,
     "end_time": "2025-09-20T19:23:36.407622",
     "exception": false,
     "start_time": "2025-09-20T19:23:36.392007",
     "status": "completed"
    },
    "tags": []
   },
   "outputs": [
    {
     "data": {
      "text/plain": [
       "10000"
      ]
     },
     "execution_count": 4,
     "metadata": {},
     "output_type": "execute_result"
    }
   ],
   "source": [
    "len(X_test)"
   ]
  },
  {
   "cell_type": "code",
   "execution_count": 5,
   "id": "6328ccf7",
   "metadata": {
    "execution": {
     "iopub.execute_input": "2025-09-20T19:23:36.424646Z",
     "iopub.status.busy": "2025-09-20T19:23:36.424286Z",
     "iopub.status.idle": "2025-09-20T19:23:36.429805Z",
     "shell.execute_reply": "2025-09-20T19:23:36.428937Z"
    },
    "papermill": {
     "duration": 0.015586,
     "end_time": "2025-09-20T19:23:36.431070",
     "exception": false,
     "start_time": "2025-09-20T19:23:36.415484",
     "status": "completed"
    },
    "tags": []
   },
   "outputs": [
    {
     "data": {
      "text/plain": [
       "(28, 28)"
      ]
     },
     "execution_count": 5,
     "metadata": {},
     "output_type": "execute_result"
    }
   ],
   "source": [
    "X_train[0].shape"
   ]
  },
  {
   "cell_type": "code",
   "execution_count": 6,
   "id": "fe02cb41",
   "metadata": {
    "execution": {
     "iopub.execute_input": "2025-09-20T19:23:36.447881Z",
     "iopub.status.busy": "2025-09-20T19:23:36.447567Z",
     "iopub.status.idle": "2025-09-20T19:23:36.454869Z",
     "shell.execute_reply": "2025-09-20T19:23:36.454002Z"
    },
    "papermill": {
     "duration": 0.017439,
     "end_time": "2025-09-20T19:23:36.456192",
     "exception": false,
     "start_time": "2025-09-20T19:23:36.438753",
     "status": "completed"
    },
    "tags": []
   },
   "outputs": [
    {
     "data": {
      "text/plain": [
       "array([[  0,   0,   0,   0,   0,   0,   0,   0,   0,   0,   0,   0,   0,\n",
       "          0,   0,   0,   0,   0,   0,   0,   0,   0,   0,   0,   0,   0,\n",
       "          0,   0],\n",
       "       [  0,   0,   0,   0,   0,   0,   0,   0,   0,   0,   0,   0,   0,\n",
       "          0,   0,   0,   0,   0,   0,   0,   0,   0,   0,   0,   0,   0,\n",
       "          0,   0],\n",
       "       [  0,   0,   0,   0,   0,   0,   0,   0,   0,   0,   0,   0,   0,\n",
       "          0,   0,   0,   0,   0,   0,   0,   0,   0,   0,   0,   0,   0,\n",
       "          0,   0],\n",
       "       [  0,   0,   0,   0,   0,   0,   0,   0,   0,   0,   0,   0,   0,\n",
       "          0,   0,   0,   0,   0,   0,   0,   0,   0,   0,   0,   0,   0,\n",
       "          0,   0],\n",
       "       [  0,   0,   0,   0,   0,   0,   0,   0,   0,   0,   0,   0,   0,\n",
       "          0,   0,   0,   0,   0,   0,   0,   0,   0,   0,   0,   0,   0,\n",
       "          0,   0],\n",
       "       [  0,   0,   0,   0,   0,   0,   0,   0,   0,   0,   0,   0,   3,\n",
       "         18,  18,  18, 126, 136, 175,  26, 166, 255, 247, 127,   0,   0,\n",
       "          0,   0],\n",
       "       [  0,   0,   0,   0,   0,   0,   0,   0,  30,  36,  94, 154, 170,\n",
       "        253, 253, 253, 253, 253, 225, 172, 253, 242, 195,  64,   0,   0,\n",
       "          0,   0],\n",
       "       [  0,   0,   0,   0,   0,   0,   0,  49, 238, 253, 253, 253, 253,\n",
       "        253, 253, 253, 253, 251,  93,  82,  82,  56,  39,   0,   0,   0,\n",
       "          0,   0],\n",
       "       [  0,   0,   0,   0,   0,   0,   0,  18, 219, 253, 253, 253, 253,\n",
       "        253, 198, 182, 247, 241,   0,   0,   0,   0,   0,   0,   0,   0,\n",
       "          0,   0],\n",
       "       [  0,   0,   0,   0,   0,   0,   0,   0,  80, 156, 107, 253, 253,\n",
       "        205,  11,   0,  43, 154,   0,   0,   0,   0,   0,   0,   0,   0,\n",
       "          0,   0],\n",
       "       [  0,   0,   0,   0,   0,   0,   0,   0,   0,  14,   1, 154, 253,\n",
       "         90,   0,   0,   0,   0,   0,   0,   0,   0,   0,   0,   0,   0,\n",
       "          0,   0],\n",
       "       [  0,   0,   0,   0,   0,   0,   0,   0,   0,   0,   0, 139, 253,\n",
       "        190,   2,   0,   0,   0,   0,   0,   0,   0,   0,   0,   0,   0,\n",
       "          0,   0],\n",
       "       [  0,   0,   0,   0,   0,   0,   0,   0,   0,   0,   0,  11, 190,\n",
       "        253,  70,   0,   0,   0,   0,   0,   0,   0,   0,   0,   0,   0,\n",
       "          0,   0],\n",
       "       [  0,   0,   0,   0,   0,   0,   0,   0,   0,   0,   0,   0,  35,\n",
       "        241, 225, 160, 108,   1,   0,   0,   0,   0,   0,   0,   0,   0,\n",
       "          0,   0],\n",
       "       [  0,   0,   0,   0,   0,   0,   0,   0,   0,   0,   0,   0,   0,\n",
       "         81, 240, 253, 253, 119,  25,   0,   0,   0,   0,   0,   0,   0,\n",
       "          0,   0],\n",
       "       [  0,   0,   0,   0,   0,   0,   0,   0,   0,   0,   0,   0,   0,\n",
       "          0,  45, 186, 253, 253, 150,  27,   0,   0,   0,   0,   0,   0,\n",
       "          0,   0],\n",
       "       [  0,   0,   0,   0,   0,   0,   0,   0,   0,   0,   0,   0,   0,\n",
       "          0,   0,  16,  93, 252, 253, 187,   0,   0,   0,   0,   0,   0,\n",
       "          0,   0],\n",
       "       [  0,   0,   0,   0,   0,   0,   0,   0,   0,   0,   0,   0,   0,\n",
       "          0,   0,   0,   0, 249, 253, 249,  64,   0,   0,   0,   0,   0,\n",
       "          0,   0],\n",
       "       [  0,   0,   0,   0,   0,   0,   0,   0,   0,   0,   0,   0,   0,\n",
       "          0,  46, 130, 183, 253, 253, 207,   2,   0,   0,   0,   0,   0,\n",
       "          0,   0],\n",
       "       [  0,   0,   0,   0,   0,   0,   0,   0,   0,   0,   0,   0,  39,\n",
       "        148, 229, 253, 253, 253, 250, 182,   0,   0,   0,   0,   0,   0,\n",
       "          0,   0],\n",
       "       [  0,   0,   0,   0,   0,   0,   0,   0,   0,   0,  24, 114, 221,\n",
       "        253, 253, 253, 253, 201,  78,   0,   0,   0,   0,   0,   0,   0,\n",
       "          0,   0],\n",
       "       [  0,   0,   0,   0,   0,   0,   0,   0,  23,  66, 213, 253, 253,\n",
       "        253, 253, 198,  81,   2,   0,   0,   0,   0,   0,   0,   0,   0,\n",
       "          0,   0],\n",
       "       [  0,   0,   0,   0,   0,   0,  18, 171, 219, 253, 253, 253, 253,\n",
       "        195,  80,   9,   0,   0,   0,   0,   0,   0,   0,   0,   0,   0,\n",
       "          0,   0],\n",
       "       [  0,   0,   0,   0,  55, 172, 226, 253, 253, 253, 253, 244, 133,\n",
       "         11,   0,   0,   0,   0,   0,   0,   0,   0,   0,   0,   0,   0,\n",
       "          0,   0],\n",
       "       [  0,   0,   0,   0, 136, 253, 253, 253, 212, 135, 132,  16,   0,\n",
       "          0,   0,   0,   0,   0,   0,   0,   0,   0,   0,   0,   0,   0,\n",
       "          0,   0],\n",
       "       [  0,   0,   0,   0,   0,   0,   0,   0,   0,   0,   0,   0,   0,\n",
       "          0,   0,   0,   0,   0,   0,   0,   0,   0,   0,   0,   0,   0,\n",
       "          0,   0],\n",
       "       [  0,   0,   0,   0,   0,   0,   0,   0,   0,   0,   0,   0,   0,\n",
       "          0,   0,   0,   0,   0,   0,   0,   0,   0,   0,   0,   0,   0,\n",
       "          0,   0],\n",
       "       [  0,   0,   0,   0,   0,   0,   0,   0,   0,   0,   0,   0,   0,\n",
       "          0,   0,   0,   0,   0,   0,   0,   0,   0,   0,   0,   0,   0,\n",
       "          0,   0]], dtype=uint8)"
      ]
     },
     "execution_count": 6,
     "metadata": {},
     "output_type": "execute_result"
    }
   ],
   "source": [
    "X_train[0]"
   ]
  },
  {
   "cell_type": "markdown",
   "id": "d0d7c117",
   "metadata": {
    "papermill": {
     "duration": 0.008033,
     "end_time": "2025-09-20T19:23:36.472248",
     "exception": false,
     "start_time": "2025-09-20T19:23:36.464215",
     "status": "completed"
    },
    "tags": []
   },
   "source": [
    "displays a 2D array as a matrix, automatically applying a color map."
   ]
  },
  {
   "cell_type": "code",
   "execution_count": 7,
   "id": "d80d84f9",
   "metadata": {
    "execution": {
     "iopub.execute_input": "2025-09-20T19:23:36.489156Z",
     "iopub.status.busy": "2025-09-20T19:23:36.488884Z",
     "iopub.status.idle": "2025-09-20T19:23:36.904735Z",
     "shell.execute_reply": "2025-09-20T19:23:36.903797Z"
    },
    "papermill": {
     "duration": 0.42603,
     "end_time": "2025-09-20T19:23:36.906202",
     "exception": false,
     "start_time": "2025-09-20T19:23:36.480172",
     "status": "completed"
    },
    "tags": []
   },
   "outputs": [
    {
     "data": {
      "text/plain": [
       "<matplotlib.image.AxesImage at 0x7e3e3ed5b850>"
      ]
     },
     "execution_count": 7,
     "metadata": {},
     "output_type": "execute_result"
    },
    {
     "data": {
      "image/png": "[encoded data removed]",
      "text/plain": [
       "<Figure size 480x480 with 1 Axes>"
      ]
     },
     "metadata": {},
     "output_type": "display_data"
    }
   ],
   "source": [
    "plt.matshow(X_train[0])"
   ]
  },
  {
   "cell_type": "code",
   "execution_count": 8,
   "id": "e8556fef",
   "metadata": {
    "execution": {
     "iopub.execute_input": "2025-09-20T19:23:36.924136Z",
     "iopub.status.busy": "2025-09-20T19:23:36.923849Z",
     "iopub.status.idle": "2025-09-20T19:23:36.930071Z",
     "shell.execute_reply": "2025-09-20T19:23:36.929094Z"
    },
    "papermill": {
     "duration": 0.016675,
     "end_time": "2025-09-20T19:23:36.931406",
     "exception": false,
     "start_time": "2025-09-20T19:23:36.914731",
     "status": "completed"
    },
    "tags": []
   },
   "outputs": [
    {
     "data": {
      "text/plain": [
       "5"
      ]
     },
     "execution_count": 8,
     "metadata": {},
     "output_type": "execute_result"
    }
   ],
   "source": [
    "y_train[0]"
   ]
  },
  {
   "cell_type": "code",
   "execution_count": 9,
   "id": "ea956edc",
   "metadata": {
    "execution": {
     "iopub.execute_input": "2025-09-20T19:23:36.949872Z",
     "iopub.status.busy": "2025-09-20T19:23:36.948975Z",
     "iopub.status.idle": "2025-09-20T19:23:37.167876Z",
     "shell.execute_reply": "2025-09-20T19:23:37.167083Z"
    },
    "papermill": {
     "duration": 0.229468,
     "end_time": "2025-09-20T19:23:37.169254",
     "exception": false,
     "start_time": "2025-09-20T19:23:36.939786",
     "status": "completed"
    },
    "tags": []
   },
   "outputs": [
    {
     "data": {
      "text/plain": [
       "<matplotlib.image.AxesImage at 0x7e3e3ec54b50>"
      ]
     },
     "execution_count": 9,
     "metadata": {},
     "output_type": "execute_result"
    },
    {
     "data": {
      "image/png": "[encoded data removed]",
      "text/plain": [
       "<Figure size 480x480 with 1 Axes>"
      ]
     },
     "metadata": {},
     "output_type": "display_data"
    }
   ],
   "source": [
    "plt.matshow(X_train[1])"
   ]
  },
  {
   "cell_type": "code",
   "execution_count": 10,
   "id": "5924b9b7",
   "metadata": {
    "execution": {
     "iopub.execute_input": "2025-09-20T19:23:37.187744Z",
     "iopub.status.busy": "2025-09-20T19:23:37.187462Z",
     "iopub.status.idle": "2025-09-20T19:23:37.192654Z",
     "shell.execute_reply": "2025-09-20T19:23:37.191897Z"
    },
    "papermill": {
     "duration": 0.015934,
     "end_time": "2025-09-20T19:23:37.193986",
     "exception": false,
     "start_time": "2025-09-20T19:23:37.178052",
     "status": "completed"
    },
    "tags": []
   },
   "outputs": [
    {
     "data": {
      "text/plain": [
       "0"
      ]
     },
     "execution_count": 10,
     "metadata": {},
     "output_type": "execute_result"
    }
   ],
   "source": [
    "y_train[1]"
   ]
  },
  {
   "cell_type": "code",
   "execution_count": 11,
   "id": "80a06390",
   "metadata": {
    "execution": {
     "iopub.execute_input": "2025-09-20T19:23:37.213398Z",
     "iopub.status.busy": "2025-09-20T19:23:37.213051Z",
     "iopub.status.idle": "2025-09-20T19:23:37.432923Z",
     "shell.execute_reply": "2025-09-20T19:23:37.432047Z"
    },
    "papermill": {
     "duration": 0.231453,
     "end_time": "2025-09-20T19:23:37.434278",
     "exception": false,
     "start_time": "2025-09-20T19:23:37.202825",
     "status": "completed"
    },
    "tags": []
   },
   "outputs": [
    {
     "data": {
      "text/plain": [
       "<matplotlib.image.AxesImage at 0x7e3e40a3b990>"
      ]
     },
     "execution_count": 11,
     "metadata": {},
     "output_type": "execute_result"
    },
    {
     "data": {
      "image/png": "[encoded data removed]",
      "text/plain": [
       "<Figure size 480x480 with 1 Axes>"
      ]
     },
     "metadata": {},
     "output_type": "display_data"
    }
   ],
   "source": [
    "plt.matshow(X_test[0])"
   ]
  },
  {
   "cell_type": "code",
   "execution_count": 12,
   "id": "6d107cf2",
   "metadata": {
    "execution": {
     "iopub.execute_input": "2025-09-20T19:23:37.454840Z",
     "iopub.status.busy": "2025-09-20T19:23:37.453834Z",
     "iopub.status.idle": "2025-09-20T19:23:37.460601Z",
     "shell.execute_reply": "2025-09-20T19:23:37.459667Z"
    },
    "papermill": {
     "duration": 0.018566,
     "end_time": "2025-09-20T19:23:37.462131",
     "exception": false,
     "start_time": "2025-09-20T19:23:37.443565",
     "status": "completed"
    },
    "tags": []
   },
   "outputs": [
    {
     "data": {
      "text/plain": [
       "7"
      ]
     },
     "execution_count": 12,
     "metadata": {},
     "output_type": "execute_result"
    }
   ],
   "source": [
    "y_test[0]"
   ]
  },
  {
   "cell_type": "markdown",
   "id": "0a8ce103",
   "metadata": {
    "papermill": {
     "duration": 0.008794,
     "end_time": "2025-09-20T19:23:37.480420",
     "exception": false,
     "start_time": "2025-09-20T19:23:37.471626",
     "status": "completed"
    },
    "tags": []
   },
   "source": [
    "Dividing by 255 converts them to values in the range 0–1 (floating point)."
   ]
  },
  {
   "cell_type": "code",
   "execution_count": 13,
   "id": "f06fb9c3",
   "metadata": {
    "execution": {
     "iopub.execute_input": "2025-09-20T19:23:37.564231Z",
     "iopub.status.busy": "2025-09-20T19:23:37.563924Z",
     "iopub.status.idle": "2025-09-20T19:23:37.794440Z",
     "shell.execute_reply": "2025-09-20T19:23:37.793428Z"
    },
    "papermill": {
     "duration": 0.306701,
     "end_time": "2025-09-20T19:23:37.796159",
     "exception": false,
     "start_time": "2025-09-20T19:23:37.489458",
     "status": "completed"
    },
    "tags": []
   },
   "outputs": [],
   "source": [
    "X_train = X_train / 255\n",
    "X_test = X_test / 255"
   ]
  },
  {
   "cell_type": "code",
   "execution_count": 14,
   "id": "91ac645d",
   "metadata": {
    "execution": {
     "iopub.execute_input": "2025-09-20T19:23:37.816462Z",
     "iopub.status.busy": "2025-09-20T19:23:37.816095Z",
     "iopub.status.idle": "2025-09-20T19:23:37.821204Z",
     "shell.execute_reply": "2025-09-20T19:23:37.820348Z"
    },
    "papermill": {
     "duration": 0.016768,
     "end_time": "2025-09-20T19:23:37.822638",
     "exception": false,
     "start_time": "2025-09-20T19:23:37.805870",
     "status": "completed"
    },
    "tags": []
   },
   "outputs": [
    {
     "name": "stdout",
     "output_type": "stream",
     "text": [
      "0.0 1.0\n"
     ]
    }
   ],
   "source": [
    "print(X_train[0].min(), X_train[0].max())\n"
   ]
  },
  {
   "cell_type": "code",
   "execution_count": 15,
   "id": "1958b909",
   "metadata": {
    "execution": {
     "iopub.execute_input": "2025-09-20T19:23:37.842660Z",
     "iopub.status.busy": "2025-09-20T19:23:37.842240Z",
     "iopub.status.idle": "2025-09-20T19:23:37.851994Z",
     "shell.execute_reply": "2025-09-20T19:23:37.851093Z"
    },
    "papermill": {
     "duration": 0.02122,
     "end_time": "2025-09-20T19:23:37.853294",
     "exception": false,
     "start_time": "2025-09-20T19:23:37.832074",
     "status": "completed"
    },
    "tags": []
   },
   "outputs": [
    {
     "data": {
      "text/plain": [
       "array([[0.        , 0.        , 0.        , 0.        , 0.        ,\n",
       "        0.        , 0.        , 0.        , 0.        , 0.        ,\n",
       "        0.        , 0.        , 0.        , 0.        , 0.        ,\n",
       "        0.        , 0.        , 0.        , 0.        , 0.        ,\n",
       "        0.        , 0.        , 0.        , 0.        , 0.        ,\n",
       "        0.        , 0.        , 0.        ],\n",
       "       [0.        , 0.        , 0.        , 0.        , 0.        ,\n",
       "        0.        , 0.        , 0.        , 0.        , 0.        ,\n",
       "        0.        , 0.        , 0.        , 0.        , 0.        ,\n",
       "        0.        , 0.        , 0.        , 0.        , 0.        ,\n",
       "        0.        , 0.        , 0.        , 0.        , 0.        ,\n",
       "        0.        , 0.        , 0.        ],\n",
       "       [0.        , 0.        , 0.        , 0.        , 0.        ,\n",
       "        0.        , 0.        , 0.        , 0.        , 0.        ,\n",
       "        0.        , 0.        , 0.        , 0.        , 0.        ,\n",
       "        0.        , 0.        , 0.        , 0.        , 0.        ,\n",
       "        0.        , 0.        , 0.        , 0.        , 0.        ,\n",
       "        0.        , 0.        , 0.        ],\n",
       "       [0.        , 0.        , 0.        , 0.        , 0.        ,\n",
       "        0.        , 0.        , 0.        , 0.        , 0.        ,\n",
       "        0.        , 0.        , 0.        , 0.        , 0.        ,\n",
       "        0.        , 0.        , 0.        , 0.        , 0.        ,\n",
       "        0.        , 0.        , 0.        , 0.        , 0.        ,\n",
       "        0.        , 0.        , 0.        ],\n",
       "       [0.        , 0.        , 0.        , 0.        , 0.        ,\n",
       "        0.        , 0.        , 0.        , 0.        , 0.        ,\n",
       "        0.        , 0.        , 0.        , 0.        , 0.        ,\n",
       "        0.        , 0.        , 0.        , 0.        , 0.        ,\n",
       "        0.        , 0.        , 0.        , 0.        , 0.        ,\n",
       "        0.        , 0.        , 0.        ],\n",
       "       [0.        , 0.        , 0.        , 0.        , 0.        ,\n",
       "        0.        , 0.        , 0.        , 0.        , 0.        ,\n",
       "        0.        , 0.        , 0.01176471, 0.07058824, 0.07058824,\n",
       "        0.07058824, 0.49411765, 0.53333333, 0.68627451, 0.10196078,\n",
       "        0.65098039, 1.        , 0.96862745, 0.49803922, 0.        ,\n",
       "        0.        , 0.        , 0.        ],\n",
       "       [0.        , 0.        , 0.        , 0.        , 0.        ,\n",
       "        0.        , 0.        , 0.        , 0.11764706, 0.14117647,\n",
       "        0.36862745, 0.60392157, 0.66666667, 0.99215686, 0.99215686,\n",
       "        0.99215686, 0.99215686, 0.99215686, 0.88235294, 0.6745098 ,\n",
       "        0.99215686, 0.94901961, 0.76470588, 0.25098039, 0.        ,\n",
       "        0.        , 0.        , 0.        ],\n",
       "       [0.        , 0.        , 0.        , 0.        , 0.        ,\n",
       "        0.        , 0.        , 0.19215686, 0.93333333, 0.99215686,\n",
       "        0.99215686, 0.99215686, 0.99215686, 0.99215686, 0.99215686,\n",
       "        0.99215686, 0.99215686, 0.98431373, 0.36470588, 0.32156863,\n",
       "        0.32156863, 0.21960784, 0.15294118, 0.        , 0.        ,\n",
       "        0.        , 0.        , 0.        ],\n",
       "       [0.        , 0.        , 0.        , 0.        , 0.        ,\n",
       "        0.        , 0.        , 0.07058824, 0.85882353, 0.99215686,\n",
       "        0.99215686, 0.99215686, 0.99215686, 0.99215686, 0.77647059,\n",
       "        0.71372549, 0.96862745, 0.94509804, 0.        , 0.        ,\n",
       "        0.        , 0.        , 0.        , 0.        , 0.        ,\n",
       "        0.        , 0.        , 0.        ],\n",
       "       [0.        , 0.        , 0.        , 0.        , 0.        ,\n",
       "        0.        , 0.        , 0.        , 0.31372549, 0.61176471,\n",
       "        0.41960784, 0.99215686, 0.99215686, 0.80392157, 0.04313725,\n",
       "        0.        , 0.16862745, 0.60392157, 0.        , 0.        ,\n",
       "        0.        , 0.        , 0.        , 0.        , 0.        ,\n",
       "        0.        , 0.        , 0.        ],\n",
       "       [0.        , 0.        , 0.        , 0.        , 0.        ,\n",
       "        0.        , 0.        , 0.        , 0.        , 0.05490196,\n",
       "        0.00392157, 0.60392157, 0.99215686, 0.35294118, 0.        ,\n",
       "        0.        , 0.        , 0.        , 0.        , 0.        ,\n",
       "        0.        , 0.        , 0.        , 0.        , 0.        ,\n",
       "        0.        , 0.        , 0.        ],\n",
       "       [0.        , 0.        , 0.        , 0.        , 0.        ,\n",
       "        0.        , 0.        , 0.        , 0.        , 0.        ,\n",
       "        0.        , 0.54509804, 0.99215686, 0.74509804, 0.00784314,\n",
       "        0.        , 0.        , 0.        , 0.        , 0.        ,\n",
       "        0.        , 0.        , 0.        , 0.        , 0.        ,\n",
       "        0.        , 0.        , 0.        ],\n",
       "       [0.        , 0.        , 0.        , 0.        , 0.        ,\n",
       "        0.        , 0.        , 0.        , 0.        , 0.        ,\n",
       "        0.        , 0.04313725, 0.74509804, 0.99215686, 0.2745098 ,\n",
       "        0.        , 0.        , 0.        , 0.        , 0.        ,\n",
       "        0.        , 0.        , 0.        , 0.        , 0.        ,\n",
       "        0.        , 0.        , 0.        ],\n",
       "       [0.        , 0.        , 0.        , 0.        , 0.        ,\n",
       "        0.        , 0.        , 0.        , 0.        , 0.        ,\n",
       "        0.        , 0.        , 0.1372549 , 0.94509804, 0.88235294,\n",
       "        0.62745098, 0.42352941, 0.00392157, 0.        , 0.        ,\n",
       "        0.        , 0.        , 0.        , 0.        , 0.        ,\n",
       "        0.        , 0.        , 0.        ],\n",
       "       [0.        , 0.        , 0.        , 0.        , 0.        ,\n",
       "        0.        , 0.        , 0.        , 0.        , 0.        ,\n",
       "        0.        , 0.        , 0.        , 0.31764706, 0.94117647,\n",
       "        0.99215686, 0.99215686, 0.46666667, 0.09803922, 0.        ,\n",
       "        0.        , 0.        , 0.        , 0.        , 0.        ,\n",
       "        0.        , 0.        , 0.        ],\n",
       "       [0.        , 0.        , 0.        , 0.        , 0.        ,\n",
       "        0.        , 0.        , 0.        , 0.        , 0.        ,\n",
       "        0.        , 0.        , 0.        , 0.        , 0.17647059,\n",
       "        0.72941176, 0.99215686, 0.99215686, 0.58823529, 0.10588235,\n",
       "        0.        , 0.        , 0.        , 0.        , 0.        ,\n",
       "        0.        , 0.        , 0.        ],\n",
       "       [0.        , 0.        , 0.        , 0.        , 0.        ,\n",
       "        0.        , 0.        , 0.        , 0.        , 0.        ,\n",
       "        0.        , 0.        , 0.        , 0.        , 0.        ,\n",
       "        0.0627451 , 0.36470588, 0.98823529, 0.99215686, 0.73333333,\n",
       "        0.        , 0.        , 0.        , 0.        , 0.        ,\n",
       "        0.        , 0.        , 0.        ],\n",
       "       [0.        , 0.        , 0.        , 0.        , 0.        ,\n",
       "        0.        , 0.        , 0.        , 0.        , 0.        ,\n",
       "        0.        , 0.        , 0.        , 0.        , 0.        ,\n",
       "        0.        , 0.        , 0.97647059, 0.99215686, 0.97647059,\n",
       "        0.25098039, 0.        , 0.        , 0.        , 0.        ,\n",
       "        0.        , 0.        , 0.        ],\n",
       "       [0.        , 0.        , 0.        , 0.        , 0.        ,\n",
       "        0.        , 0.        , 0.        , 0.        , 0.        ,\n",
       "        0.        , 0.        , 0.        , 0.        , 0.18039216,\n",
       "        0.50980392, 0.71764706, 0.99215686, 0.99215686, 0.81176471,\n",
       "        0.00784314, 0.        , 0.        , 0.        , 0.        ,\n",
       "        0.        , 0.        , 0.        ],\n",
       "       [0.        , 0.        , 0.        , 0.        , 0.        ,\n",
       "        0.        , 0.        , 0.        , 0.        , 0.        ,\n",
       "        0.        , 0.        , 0.15294118, 0.58039216, 0.89803922,\n",
       "        0.99215686, 0.99215686, 0.99215686, 0.98039216, 0.71372549,\n",
       "        0.        , 0.        , 0.        , 0.        , 0.        ,\n",
       "        0.        , 0.        , 0.        ],\n",
       "       [0.        , 0.        , 0.        , 0.        , 0.        ,\n",
       "        0.        , 0.        , 0.        , 0.        , 0.        ,\n",
       "        0.09411765, 0.44705882, 0.86666667, 0.99215686, 0.99215686,\n",
       "        0.99215686, 0.99215686, 0.78823529, 0.30588235, 0.        ,\n",
       "        0.        , 0.        , 0.        , 0.        , 0.        ,\n",
       "        0.        , 0.        , 0.        ],\n",
       "       [0.        , 0.        , 0.        , 0.        , 0.        ,\n",
       "        0.        , 0.        , 0.        , 0.09019608, 0.25882353,\n",
       "        0.83529412, 0.99215686, 0.99215686, 0.99215686, 0.99215686,\n",
       "        0.77647059, 0.31764706, 0.00784314, 0.        , 0.        ,\n",
       "        0.        , 0.        , 0.        , 0.        , 0.        ,\n",
       "        0.        , 0.        , 0.        ],\n",
       "       [0.        , 0.        , 0.        , 0.        , 0.        ,\n",
       "        0.        , 0.07058824, 0.67058824, 0.85882353, 0.99215686,\n",
       "        0.99215686, 0.99215686, 0.99215686, 0.76470588, 0.31372549,\n",
       "        0.03529412, 0.        , 0.        , 0.        , 0.        ,\n",
       "        0.        , 0.        , 0.        , 0.        , 0.        ,\n",
       "        0.        , 0.        , 0.        ],\n",
       "       [0.        , 0.        , 0.        , 0.        , 0.21568627,\n",
       "        0.6745098 , 0.88627451, 0.99215686, 0.99215686, 0.99215686,\n",
       "        0.99215686, 0.95686275, 0.52156863, 0.04313725, 0.        ,\n",
       "        0.        , 0.        , 0.        , 0.        , 0.        ,\n",
       "        0.        , 0.        , 0.        , 0.        , 0.        ,\n",
       "        0.        , 0.        , 0.        ],\n",
       "       [0.        , 0.        , 0.        , 0.        , 0.53333333,\n",
       "        0.99215686, 0.99215686, 0.99215686, 0.83137255, 0.52941176,\n",
       "        0.51764706, 0.0627451 , 0.        , 0.        , 0.        ,\n",
       "        0.        , 0.        , 0.        , 0.        , 0.        ,\n",
       "        0.        , 0.        , 0.        , 0.        , 0.        ,\n",
       "        0.        , 0.        , 0.        ],\n",
       "       [0.        , 0.        , 0.        , 0.        , 0.        ,\n",
       "        0.        , 0.        , 0.        , 0.        , 0.        ,\n",
       "        0.        , 0.        , 0.        , 0.        , 0.        ,\n",
       "        0.        , 0.        , 0.        , 0.        , 0.        ,\n",
       "        0.        , 0.        , 0.        , 0.        , 0.        ,\n",
       "        0.        , 0.        , 0.        ],\n",
       "       [0.        , 0.        , 0.        , 0.        , 0.        ,\n",
       "        0.        , 0.        , 0.        , 0.        , 0.        ,\n",
       "        0.        , 0.        , 0.        , 0.        , 0.        ,\n",
       "        0.        , 0.        , 0.        , 0.        , 0.        ,\n",
       "        0.        , 0.        , 0.        , 0.        , 0.        ,\n",
       "        0.        , 0.        , 0.        ],\n",
       "       [0.        , 0.        , 0.        , 0.        , 0.        ,\n",
       "        0.        , 0.        , 0.        , 0.        , 0.        ,\n",
       "        0.        , 0.        , 0.        , 0.        , 0.        ,\n",
       "        0.        , 0.        , 0.        , 0.        , 0.        ,\n",
       "        0.        , 0.        , 0.        , 0.        , 0.        ,\n",
       "        0.        , 0.        , 0.        ]])"
      ]
     },
     "execution_count": 15,
     "metadata": {},
     "output_type": "execute_result"
    }
   ],
   "source": [
    "X_train[0]"
   ]
  },
  {
   "cell_type": "markdown",
   "id": "791007ec",
   "metadata": {
    "papermill": {
     "duration": 0.011221,
     "end_time": "2025-09-20T19:23:37.874103",
     "exception": false,
     "start_time": "2025-09-20T19:23:37.862882",
     "status": "completed"
    },
    "tags": []
   },
   "source": [
    "way to flatten your images for a dense neural network."
   ]
  },
  {
   "cell_type": "code",
   "execution_count": 16,
   "id": "a771c05b",
   "metadata": {
    "execution": {
     "iopub.execute_input": "2025-09-20T19:23:37.895799Z",
     "iopub.status.busy": "2025-09-20T19:23:37.895119Z",
     "iopub.status.idle": "2025-09-20T19:23:37.900861Z",
     "shell.execute_reply": "2025-09-20T19:23:37.899816Z"
    },
    "papermill": {
     "duration": 0.018291,
     "end_time": "2025-09-20T19:23:37.902391",
     "exception": false,
     "start_time": "2025-09-20T19:23:37.884100",
     "status": "completed"
    },
    "tags": []
   },
   "outputs": [],
   "source": [
    "X_train_flattened = X_train.reshape(len(X_train), 28*28)\n",
    "X_test_flattened = X_test.reshape(len(X_test), 28*28)"
   ]
  },
  {
   "cell_type": "code",
   "execution_count": 17,
   "id": "6848a237",
   "metadata": {
    "execution": {
     "iopub.execute_input": "2025-09-20T19:23:37.923437Z",
     "iopub.status.busy": "2025-09-20T19:23:37.923085Z",
     "iopub.status.idle": "2025-09-20T19:23:37.928476Z",
     "shell.execute_reply": "2025-09-20T19:23:37.927691Z"
    },
    "papermill": {
     "duration": 0.017111,
     "end_time": "2025-09-20T19:23:37.929886",
     "exception": false,
     "start_time": "2025-09-20T19:23:37.912775",
     "status": "completed"
    },
    "tags": []
   },
   "outputs": [
    {
     "data": {
      "text/plain": [
       "(60000, 784)"
      ]
     },
     "execution_count": 17,
     "metadata": {},
     "output_type": "execute_result"
    }
   ],
   "source": [
    "X_train_flattened.shape"
   ]
  },
  {
   "cell_type": "markdown",
   "id": "30a20ffd",
   "metadata": {
    "papermill": {
     "duration": 0.009524,
     "end_time": "2025-09-20T19:23:37.949020",
     "exception": false,
     "start_time": "2025-09-20T19:23:37.939496",
     "status": "completed"
    },
    "tags": []
   },
   "source": [
    "## neural network for MNIST."
   ]
  },
  {
   "cell_type": "code",
   "execution_count": 18,
   "id": "f6bd8f32",
   "metadata": {
    "execution": {
     "iopub.execute_input": "2025-09-20T19:23:37.970428Z",
     "iopub.status.busy": "2025-09-20T19:23:37.970109Z",
     "iopub.status.idle": "2025-09-20T19:24:11.425082Z",
     "shell.execute_reply": "2025-09-20T19:24:11.424100Z"
    },
    "papermill": {
     "duration": 33.468067,
     "end_time": "2025-09-20T19:24:11.426575",
     "exception": false,
     "start_time": "2025-09-20T19:23:37.958508",
     "status": "completed"
    },
    "tags": []
   },
   "outputs": [
    {
     "name": "stderr",
     "output_type": "stream",
     "text": [
      "/usr/local/lib/python3.11/dist-packages/keras/src/layers/core/dense.py:87: UserWarning: Do not pass an `input_shape`/`input_dim` argument to a layer. When using Sequential models, prefer using an `Input(shape)` object as the first layer in the model instead.\n",
      "  super().__init__(activity_regularizer=activity_regularizer, **kwargs)\n",
      "2025-09-20 19:23:37.980898: E external/local_xla/xla/stream_executor/cuda/cuda_driver.cc:152] failed call to cuInit: INTERNAL: CUDA error: Failed call to cuInit: UNKNOWN ERROR (303)\n"
     ]
    },
    {
     "name": "stdout",
     "output_type": "stream",
     "text": [
      "Epoch 1/10\n",
      "\u001b[1m1875/1875\u001b[0m \u001b[32m━━━━━━━━━━━━━━━━━━━━\u001b[0m\u001b[37m\u001b[0m \u001b[1m4s\u001b[0m 2ms/step - accuracy: 0.8103 - loss: 0.7309\n",
      "Epoch 2/10\n",
      "\u001b[1m1875/1875\u001b[0m \u001b[32m━━━━━━━━━━━━━━━━━━━━\u001b[0m\u001b[37m\u001b[0m \u001b[1m3s\u001b[0m 2ms/step - accuracy: 0.9128 - loss: 0.3082\n",
      "Epoch 3/10\n",
      "\u001b[1m1875/1875\u001b[0m \u001b[32m━━━━━━━━━━━━━━━━━━━━\u001b[0m\u001b[37m\u001b[0m \u001b[1m3s\u001b[0m 2ms/step - accuracy: 0.9196 - loss: 0.2849\n",
      "Epoch 4/10\n",
      "\u001b[1m1875/1875\u001b[0m \u001b[32m━━━━━━━━━━━━━━━━━━━━\u001b[0m\u001b[37m\u001b[0m \u001b[1m3s\u001b[0m 2ms/step - accuracy: 0.9255 - loss: 0.2663\n",
      "Epoch 5/10\n",
      "\u001b[1m1875/1875\u001b[0m \u001b[32m━━━━━━━━━━━━━━━━━━━━\u001b[0m\u001b[37m\u001b[0m \u001b[1m3s\u001b[0m 2ms/step - accuracy: 0.9253 - loss: 0.2640\n",
      "Epoch 6/10\n",
      "\u001b[1m1875/1875\u001b[0m \u001b[32m━━━━━━━━━━━━━━━━━━━━\u001b[0m\u001b[37m\u001b[0m \u001b[1m3s\u001b[0m 2ms/step - accuracy: 0.9295 - loss: 0.2586\n",
      "Epoch 7/10\n",
      "\u001b[1m1875/1875\u001b[0m \u001b[32m━━━━━━━━━━━━━━━━━━━━\u001b[0m\u001b[37m\u001b[0m \u001b[1m3s\u001b[0m 2ms/step - accuracy: 0.9267 - loss: 0.2670\n",
      "Epoch 8/10\n",
      "\u001b[1m1875/1875\u001b[0m \u001b[32m━━━━━━━━━━━━━━━━━━━━\u001b[0m\u001b[37m\u001b[0m \u001b[1m3s\u001b[0m 2ms/step - accuracy: 0.9300 - loss: 0.2490\n",
      "Epoch 9/10\n",
      "\u001b[1m1875/1875\u001b[0m \u001b[32m━━━━━━━━━━━━━━━━━━━━\u001b[0m\u001b[37m\u001b[0m \u001b[1m3s\u001b[0m 2ms/step - accuracy: 0.9291 - loss: 0.2576\n",
      "Epoch 10/10\n",
      "\u001b[1m1875/1875\u001b[0m \u001b[32m━━━━━━━━━━━━━━━━━━━━\u001b[0m\u001b[37m\u001b[0m \u001b[1m3s\u001b[0m 2ms/step - accuracy: 0.9315 - loss: 0.2477\n"
     ]
    },
    {
     "data": {
      "text/plain": [
       "<keras.src.callbacks.history.History at 0x7e3e3af11850>"
      ]
     },
     "execution_count": 18,
     "metadata": {},
     "output_type": "execute_result"
    }
   ],
   "source": [
    "model = keras.Sequential([\n",
    "    keras.layers.Dense(10, input_shape=(784,), activation='sigmoid')\n",
    "])\n",
    "\n",
    "model.compile(optimizer='adam',\n",
    "             loss='sparse_categorical_crossentropy',\n",
    "             metrics=['accuracy'])\n",
    "\n",
    "model.fit(X_train_flattened, y_train, epochs=10)"
   ]
  },
  {
   "cell_type": "code",
   "execution_count": 19,
   "id": "8b083eb8",
   "metadata": {
    "execution": {
     "iopub.execute_input": "2025-09-20T19:24:11.509716Z",
     "iopub.status.busy": "2025-09-20T19:24:11.509402Z",
     "iopub.status.idle": "2025-09-20T19:24:12.284788Z",
     "shell.execute_reply": "2025-09-20T19:24:12.283630Z"
    },
    "papermill": {
     "duration": 0.818265,
     "end_time": "2025-09-20T19:24:12.286227",
     "exception": false,
     "start_time": "2025-09-20T19:24:11.467962",
     "status": "completed"
    },
    "tags": []
   },
   "outputs": [
    {
     "name": "stdout",
     "output_type": "stream",
     "text": [
      "\u001b[1m313/313\u001b[0m \u001b[32m━━━━━━━━━━━━━━━━━━━━\u001b[0m\u001b[37m\u001b[0m \u001b[1m1s\u001b[0m 2ms/step - accuracy: 0.9137 - loss: 0.3027\n",
      "test loss: 0.26846563816070557\n",
      "accuracy: 0.925599992275238\n"
     ]
    }
   ],
   "source": [
    "loss, accuracy = model.evaluate(X_test_flattened, y_test)\n",
    "print('test loss:', loss)\n",
    "print('accuracy:', accuracy)"
   ]
  },
  {
   "cell_type": "markdown",
   "id": "a5f1f5ef",
   "metadata": {
    "papermill": {
     "duration": 0.041031,
     "end_time": "2025-09-20T19:24:12.370172",
     "exception": false,
     "start_time": "2025-09-20T19:24:12.329141",
     "status": "completed"
    },
    "tags": []
   },
   "source": [
    "## Predicting with Keras"
   ]
  },
  {
   "cell_type": "code",
   "execution_count": 20,
   "id": "032b1531",
   "metadata": {
    "execution": {
     "iopub.execute_input": "2025-09-20T19:24:12.457199Z",
     "iopub.status.busy": "2025-09-20T19:24:12.456927Z",
     "iopub.status.idle": "2025-09-20T19:24:13.124916Z",
     "shell.execute_reply": "2025-09-20T19:24:13.123904Z"
    },
    "papermill": {
     "duration": 0.714491,
     "end_time": "2025-09-20T19:24:13.126684",
     "exception": false,
     "start_time": "2025-09-20T19:24:12.412193",
     "status": "completed"
    },
    "tags": []
   },
   "outputs": [
    {
     "name": "stdout",
     "output_type": "stream",
     "text": [
      "\u001b[1m313/313\u001b[0m \u001b[32m━━━━━━━━━━━━━━━━━━━━\u001b[0m\u001b[37m\u001b[0m \u001b[1m0s\u001b[0m 1ms/step  \n"
     ]
    },
    {
     "data": {
      "text/plain": [
       "array([3.8760188e-03, 1.5124986e-08, 1.1491462e-02, 9.6682107e-01,\n",
       "       1.5202485e-03, 1.3282683e-01, 3.1314034e-08, 9.9981433e-01,\n",
       "       5.3288512e-02, 5.9031683e-01], dtype=float32)"
      ]
     },
     "execution_count": 20,
     "metadata": {},
     "output_type": "execute_result"
    }
   ],
   "source": [
    "y_predicted = model.predict(X_test_flattened)\n",
    "y_predicted[0]"
   ]
  },
  {
   "cell_type": "code",
   "execution_count": 21,
   "id": "fc2da845",
   "metadata": {
    "execution": {
     "iopub.execute_input": "2025-09-20T19:24:13.216868Z",
     "iopub.status.busy": "2025-09-20T19:24:13.216552Z",
     "iopub.status.idle": "2025-09-20T19:24:13.438787Z",
     "shell.execute_reply": "2025-09-20T19:24:13.437803Z"
    },
    "papermill": {
     "duration": 0.269772,
     "end_time": "2025-09-20T19:24:13.440439",
     "exception": false,
     "start_time": "2025-09-20T19:24:13.170667",
     "status": "completed"
    },
    "tags": []
   },
   "outputs": [
    {
     "data": {
      "text/plain": [
       "<matplotlib.image.AxesImage at 0x7e3e3bcbb850>"
      ]
     },
     "execution_count": 21,
     "metadata": {},
     "output_type": "execute_result"
    },
    {
     "data": {
      "image/png": "[encoded data removed]",
      "text/plain": [
       "<Figure size 480x480 with 1 Axes>"
      ]
     },
     "metadata": {},
     "output_type": "display_data"
    }
   ],
   "source": [
    "plt.matshow(X_test[0])"
   ]
  },
  {
   "cell_type": "code",
   "execution_count": 22,
   "id": "ac57c931",
   "metadata": {
    "execution": {
     "iopub.execute_input": "2025-09-20T19:24:13.527445Z",
     "iopub.status.busy": "2025-09-20T19:24:13.527081Z",
     "iopub.status.idle": "2025-09-20T19:24:13.532465Z",
     "shell.execute_reply": "2025-09-20T19:24:13.531770Z"
    },
    "papermill": {
     "duration": 0.049998,
     "end_time": "2025-09-20T19:24:13.533709",
     "exception": false,
     "start_time": "2025-09-20T19:24:13.483711",
     "status": "completed"
    },
    "tags": []
   },
   "outputs": [
    {
     "data": {
      "text/plain": [
       "7"
      ]
     },
     "execution_count": 22,
     "metadata": {},
     "output_type": "execute_result"
    }
   ],
   "source": [
    "np.argmax(y_predicted[0])"
   ]
  },
  {
   "cell_type": "markdown",
   "id": "4b0df2d0",
   "metadata": {
    "papermill": {
     "duration": 0.041554,
     "end_time": "2025-09-20T19:24:13.617695",
     "exception": false,
     "start_time": "2025-09-20T19:24:13.576141",
     "status": "completed"
    },
    "tags": []
   },
   "source": [
    "## convert predicted probabilities into class labels.\n",
    "\n",
    "np.argmax(i) → finds the index of the highest probability in each row (the predicted digit)."
   ]
  },
  {
   "cell_type": "code",
   "execution_count": 23,
   "id": "4b648069",
   "metadata": {
    "execution": {
     "iopub.execute_input": "2025-09-20T19:24:13.703421Z",
     "iopub.status.busy": "2025-09-20T19:24:13.703073Z",
     "iopub.status.idle": "2025-09-20T19:24:13.725611Z",
     "shell.execute_reply": "2025-09-20T19:24:13.724643Z"
    },
    "papermill": {
     "duration": 0.067138,
     "end_time": "2025-09-20T19:24:13.727281",
     "exception": false,
     "start_time": "2025-09-20T19:24:13.660143",
     "status": "completed"
    },
    "tags": []
   },
   "outputs": [],
   "source": [
    "y_predicted_labels = [np.argmax(i) for i in y_predicted]"
   ]
  },
  {
   "cell_type": "code",
   "execution_count": 24,
   "id": "acfc74aa",
   "metadata": {
    "execution": {
     "iopub.execute_input": "2025-09-20T19:24:13.814279Z",
     "iopub.status.busy": "2025-09-20T19:24:13.813971Z",
     "iopub.status.idle": "2025-09-20T19:24:13.819220Z",
     "shell.execute_reply": "2025-09-20T19:24:13.818477Z"
    },
    "papermill": {
     "duration": 0.050536,
     "end_time": "2025-09-20T19:24:13.820705",
     "exception": false,
     "start_time": "2025-09-20T19:24:13.770169",
     "status": "completed"
    },
    "tags": []
   },
   "outputs": [
    {
     "data": {
      "text/plain": [
       "[7, 2, 1, 0]"
      ]
     },
     "execution_count": 24,
     "metadata": {},
     "output_type": "execute_result"
    }
   ],
   "source": [
    "y_predicted_labels[:4]"
   ]
  },
  {
   "cell_type": "markdown",
   "id": "fa5cce41",
   "metadata": {
    "papermill": {
     "duration": 0.042237,
     "end_time": "2025-09-20T19:24:13.905482",
     "exception": false,
     "start_time": "2025-09-20T19:24:13.863245",
     "status": "completed"
    },
    "tags": []
   },
   "source": [
    "Compute confusion matrix"
   ]
  },
  {
   "cell_type": "code",
   "execution_count": 25,
   "id": "e3b7e97f",
   "metadata": {
    "execution": {
     "iopub.execute_input": "2025-09-20T19:24:13.991706Z",
     "iopub.status.busy": "2025-09-20T19:24:13.991360Z",
     "iopub.status.idle": "2025-09-20T19:24:14.030579Z",
     "shell.execute_reply": "2025-09-20T19:24:14.029605Z"
    },
    "papermill": {
     "duration": 0.083997,
     "end_time": "2025-09-20T19:24:14.032217",
     "exception": false,
     "start_time": "2025-09-20T19:24:13.948220",
     "status": "completed"
    },
    "tags": []
   },
   "outputs": [
    {
     "data": {
      "text/plain": [
       "<tf.Tensor: shape=(10, 10), dtype=int32, numpy=\n",
       "array([[ 963,    0,    1,    2,    0,    5,    5,    3,    1,    0],\n",
       "       [   0, 1117,    3,    2,    0,    1,    4,    2,    6,    0],\n",
       "       [   8,   10,  908,   19,    8,    4,   13,   10,   50,    2],\n",
       "       [   3,    0,   11,  932,    1,   24,    3,    9,   21,    6],\n",
       "       [   1,    1,    5,    2,  925,    0,    9,    5,    9,   25],\n",
       "       [   9,    3,    2,   33,    9,  783,   11,    7,   30,    5],\n",
       "       [  13,    3,    8,    2,    7,   14,  908,    1,    2,    0],\n",
       "       [   1,    7,   23,    6,    9,    1,    0,  952,    1,   28],\n",
       "       [   7,   12,    5,   20,    9,   29,    8,   13,  865,    6],\n",
       "       [  11,    8,    1,    9,   36,    8,    0,   22,   11,  903]],\n",
       "      dtype=int32)>"
      ]
     },
     "execution_count": 25,
     "metadata": {},
     "output_type": "execute_result"
    }
   ],
   "source": [
    "cm = tf.math.confusion_matrix(labels=y_test, predictions=y_predicted_labels)\n",
    "cm"
   ]
  },
  {
   "cell_type": "code",
   "execution_count": 26,
   "id": "30004c23",
   "metadata": {
    "execution": {
     "iopub.execute_input": "2025-09-20T19:24:14.124706Z",
     "iopub.status.busy": "2025-09-20T19:24:14.124390Z",
     "iopub.status.idle": "2025-09-20T19:24:14.691689Z",
     "shell.execute_reply": "2025-09-20T19:24:14.690857Z"
    },
    "papermill": {
     "duration": 0.614815,
     "end_time": "2025-09-20T19:24:14.693283",
     "exception": false,
     "start_time": "2025-09-20T19:24:14.078468",
     "status": "completed"
    },
    "tags": []
   },
   "outputs": [],
   "source": [
    "import seaborn as sns"
   ]
  },
  {
   "cell_type": "code",
   "execution_count": 27,
   "id": "541c1b71",
   "metadata": {
    "execution": {
     "iopub.execute_input": "2025-09-20T19:24:14.780168Z",
     "iopub.status.busy": "2025-09-20T19:24:14.779578Z",
     "iopub.status.idle": "2025-09-20T19:24:15.171281Z",
     "shell.execute_reply": "2025-09-20T19:24:15.170367Z"
    },
    "papermill": {
     "duration": 0.436429,
     "end_time": "2025-09-20T19:24:15.172910",
     "exception": false,
     "start_time": "2025-09-20T19:24:14.736481",
     "status": "completed"
    },
    "tags": []
   },
   "outputs": [
    {
     "data": {
      "image/png": "[encoded data removed]",
      "text/plain": [
       "<Figure size 1000x700 with 2 Axes>"
      ]
     },
     "metadata": {},
     "output_type": "display_data"
    }
   ],
   "source": [
    "plt.figure(figsize=(10, 7))\n",
    "sns.heatmap(cm, annot=True, fmt='d')\n",
    "plt.xlabel('Predicted')\n",
    "plt.ylabel('Truth')\n",
    "plt.show()"
   ]
  },
  {
   "cell_type": "markdown",
   "id": "741d5e72",
   "metadata": {
    "papermill": {
     "duration": 0.045932,
     "end_time": "2025-09-20T19:24:15.264872",
     "exception": false,
     "start_time": "2025-09-20T19:24:15.218940",
     "status": "completed"
    },
    "tags": []
   },
   "source": [
    "### Using hidden layer"
   ]
  },
  {
   "cell_type": "code",
   "execution_count": 28,
   "id": "87fe0ed4",
   "metadata": {
    "execution": {
     "iopub.execute_input": "2025-09-20T19:24:15.355255Z",
     "iopub.status.busy": "2025-09-20T19:24:15.354944Z",
     "iopub.status.idle": "2025-09-20T19:25:04.507157Z",
     "shell.execute_reply": "2025-09-20T19:25:04.506390Z"
    },
    "papermill": {
     "duration": 49.199347,
     "end_time": "2025-09-20T19:25:04.508687",
     "exception": false,
     "start_time": "2025-09-20T19:24:15.309340",
     "status": "completed"
    },
    "tags": []
   },
   "outputs": [
    {
     "name": "stderr",
     "output_type": "stream",
     "text": [
      "/usr/local/lib/python3.11/dist-packages/keras/src/layers/core/dense.py:87: UserWarning: Do not pass an `input_shape`/`input_dim` argument to a layer. When using Sequential models, prefer using an `Input(shape)` object as the first layer in the model instead.\n",
      "  super().__init__(activity_regularizer=activity_regularizer, **kwargs)\n"
     ]
    },
    {
     "name": "stdout",
     "output_type": "stream",
     "text": [
      "Epoch 1/10\n",
      "\u001b[1m1875/1875\u001b[0m \u001b[32m━━━━━━━━━━━━━━━━━━━━\u001b[0m\u001b[37m\u001b[0m \u001b[1m6s\u001b[0m 3ms/step - accuracy: 0.8722 - loss: 0.4468\n",
      "Epoch 2/10\n",
      "\u001b[1m1875/1875\u001b[0m \u001b[32m━━━━━━━━━━━━━━━━━━━━\u001b[0m\u001b[37m\u001b[0m \u001b[1m5s\u001b[0m 3ms/step - accuracy: 0.9646 - loss: 0.1248\n",
      "Epoch 3/10\n",
      "\u001b[1m1875/1875\u001b[0m \u001b[32m━━━━━━━━━━━━━━━━━━━━\u001b[0m\u001b[37m\u001b[0m \u001b[1m5s\u001b[0m 3ms/step - accuracy: 0.9745 - loss: 0.0863\n",
      "Epoch 4/10\n",
      "\u001b[1m1875/1875\u001b[0m \u001b[32m━━━━━━━━━━━━━━━━━━━━\u001b[0m\u001b[37m\u001b[0m \u001b[1m5s\u001b[0m 3ms/step - accuracy: 0.9804 - loss: 0.0663\n",
      "Epoch 5/10\n",
      "\u001b[1m1875/1875\u001b[0m \u001b[32m━━━━━━━━━━━━━━━━━━━━\u001b[0m\u001b[37m\u001b[0m \u001b[1m5s\u001b[0m 3ms/step - accuracy: 0.9854 - loss: 0.0488\n",
      "Epoch 6/10\n",
      "\u001b[1m1875/1875\u001b[0m \u001b[32m━━━━━━━━━━━━━━━━━━━━\u001b[0m\u001b[37m\u001b[0m \u001b[1m5s\u001b[0m 3ms/step - accuracy: 0.9887 - loss: 0.0375\n",
      "Epoch 7/10\n",
      "\u001b[1m1875/1875\u001b[0m \u001b[32m━━━━━━━━━━━━━━━━━━━━\u001b[0m\u001b[37m\u001b[0m \u001b[1m5s\u001b[0m 2ms/step - accuracy: 0.9904 - loss: 0.0323\n",
      "Epoch 8/10\n",
      "\u001b[1m1875/1875\u001b[0m \u001b[32m━━━━━━━━━━━━━━━━━━━━\u001b[0m\u001b[37m\u001b[0m \u001b[1m5s\u001b[0m 2ms/step - accuracy: 0.9923 - loss: 0.0248\n",
      "Epoch 9/10\n",
      "\u001b[1m1875/1875\u001b[0m \u001b[32m━━━━━━━━━━━━━━━━━━━━\u001b[0m\u001b[37m\u001b[0m \u001b[1m5s\u001b[0m 2ms/step - accuracy: 0.9938 - loss: 0.0206\n",
      "Epoch 10/10\n",
      "\u001b[1m1875/1875\u001b[0m \u001b[32m━━━━━━━━━━━━━━━━━━━━\u001b[0m\u001b[37m\u001b[0m \u001b[1m5s\u001b[0m 3ms/step - accuracy: 0.9950 - loss: 0.0173\n"
     ]
    },
    {
     "data": {
      "text/plain": [
       "<keras.src.callbacks.history.History at 0x7e3e380b9f90>"
      ]
     },
     "execution_count": 28,
     "metadata": {},
     "output_type": "execute_result"
    }
   ],
   "source": [
    "model = keras.Sequential([\n",
    "    keras.layers.Dense(100, input_shape=(784,), activation='relu'),\n",
    "    keras.layers.Dense(10, activation='sigmoid')\n",
    "])\n",
    "\n",
    "model.compile(optimizer='adam',\n",
    "             loss='sparse_categorical_crossentropy',\n",
    "             metrics=['accuracy'])\n",
    "\n",
    "model.fit(X_train_flattened, y_train, epochs=10)"
   ]
  },
  {
   "cell_type": "code",
   "execution_count": 29,
   "id": "34d2afec",
   "metadata": {
    "execution": {
     "iopub.execute_input": "2025-09-20T19:25:04.695840Z",
     "iopub.status.busy": "2025-09-20T19:25:04.695514Z",
     "iopub.status.idle": "2025-09-20T19:25:05.582068Z",
     "shell.execute_reply": "2025-09-20T19:25:05.581075Z"
    },
    "papermill": {
     "duration": 0.981741,
     "end_time": "2025-09-20T19:25:05.583796",
     "exception": false,
     "start_time": "2025-09-20T19:25:04.602055",
     "status": "completed"
    },
    "tags": []
   },
   "outputs": [
    {
     "name": "stdout",
     "output_type": "stream",
     "text": [
      "\u001b[1m313/313\u001b[0m \u001b[32m━━━━━━━━━━━━━━━━━━━━\u001b[0m\u001b[37m\u001b[0m \u001b[1m1s\u001b[0m 2ms/step - accuracy: 0.9738 - loss: 0.1028\n",
      "Test loss: 0.08890017122030258\n",
      "Test accuracy: 0.9778000116348267\n"
     ]
    }
   ],
   "source": [
    "loss, accuracy = model.evaluate(X_test_flattened, y_test)\n",
    "print('Test loss:', loss)\n",
    "print('Test accuracy:', accuracy)"
   ]
  },
  {
   "cell_type": "code",
   "execution_count": 30,
   "id": "faf4821e",
   "metadata": {
    "execution": {
     "iopub.execute_input": "2025-09-20T19:25:05.764607Z",
     "iopub.status.busy": "2025-09-20T19:25:05.764256Z",
     "iopub.status.idle": "2025-09-20T19:25:07.146977Z",
     "shell.execute_reply": "2025-09-20T19:25:07.146014Z"
    },
    "papermill": {
     "duration": 1.474335,
     "end_time": "2025-09-20T19:25:07.148560",
     "exception": false,
     "start_time": "2025-09-20T19:25:05.674225",
     "status": "completed"
    },
    "tags": []
   },
   "outputs": [
    {
     "name": "stdout",
     "output_type": "stream",
     "text": [
      "\u001b[1m313/313\u001b[0m \u001b[32m━━━━━━━━━━━━━━━━━━━━\u001b[0m\u001b[37m\u001b[0m \u001b[1m0s\u001b[0m 1ms/step\n"
     ]
    },
    {
     "data": {
      "image/png": "[encoded data removed]",
      "text/plain": [
       "<Figure size 1000x700 with 2 Axes>"
      ]
     },
     "metadata": {},
     "output_type": "display_data"
    }
   ],
   "source": [
    "y_predicted = model.predict(X_test_flattened)\n",
    "y_predicted_labels = [np.argmax(i) for i in y_predicted]\n",
    "cm = tf.math.confusion_matrix(labels=y_test, predictions=y_predicted_labels)\n",
    "\n",
    "plt.figure(figsize=(10, 7))\n",
    "sns.heatmap(cm, annot=True, fmt='d')\n",
    "plt.xlabel('Predicted')\n",
    "plt.ylabel('Truth')\n",
    "plt.show()"
   ]
  },
  {
   "cell_type": "markdown",
   "id": "3ead20e1",
   "metadata": {
    "papermill": {
     "duration": 0.093865,
     "end_time": "2025-09-20T19:25:07.335520",
     "exception": false,
     "start_time": "2025-09-20T19:25:07.241655",
     "status": "completed"
    },
    "tags": []
   },
   "source": [
    "### using flatten layer so that we do not have to call.reshape on input dataset."
   ]
  },
  {
   "cell_type": "code",
   "execution_count": 31,
   "id": "10a63e58",
   "metadata": {
    "execution": {
     "iopub.execute_input": "2025-09-20T19:25:07.520861Z",
     "iopub.status.busy": "2025-09-20T19:25:07.520046Z",
     "iopub.status.idle": "2025-09-20T19:25:56.390236Z",
     "shell.execute_reply": "2025-09-20T19:25:56.389123Z"
    },
    "papermill": {
     "duration": 48.963996,
     "end_time": "2025-09-20T19:25:56.391791",
     "exception": false,
     "start_time": "2025-09-20T19:25:07.427795",
     "status": "completed"
    },
    "tags": []
   },
   "outputs": [
    {
     "name": "stderr",
     "output_type": "stream",
     "text": [
      "/usr/local/lib/python3.11/dist-packages/keras/src/layers/reshaping/flatten.py:37: UserWarning: Do not pass an `input_shape`/`input_dim` argument to a layer. When using Sequential models, prefer using an `Input(shape)` object as the first layer in the model instead.\n",
      "  super().__init__(**kwargs)\n"
     ]
    },
    {
     "name": "stdout",
     "output_type": "stream",
     "text": [
      "Epoch 1/10\n",
      "\u001b[1m1875/1875\u001b[0m \u001b[32m━━━━━━━━━━━━━━━━━━━━\u001b[0m\u001b[37m\u001b[0m \u001b[1m6s\u001b[0m 3ms/step - accuracy: 0.8689 - loss: 0.4600\n",
      "Epoch 2/10\n",
      "\u001b[1m1875/1875\u001b[0m \u001b[32m━━━━━━━━━━━━━━━━━━━━\u001b[0m\u001b[37m\u001b[0m \u001b[1m5s\u001b[0m 3ms/step - accuracy: 0.9589 - loss: 0.1362\n",
      "Epoch 3/10\n",
      "\u001b[1m1875/1875\u001b[0m \u001b[32m━━━━━━━━━━━━━━━━━━━━\u001b[0m\u001b[37m\u001b[0m \u001b[1m5s\u001b[0m 3ms/step - accuracy: 0.9734 - loss: 0.0911\n",
      "Epoch 4/10\n",
      "\u001b[1m1875/1875\u001b[0m \u001b[32m━━━━━━━━━━━━━━━━━━━━\u001b[0m\u001b[37m\u001b[0m \u001b[1m5s\u001b[0m 3ms/step - accuracy: 0.9803 - loss: 0.0670\n",
      "Epoch 5/10\n",
      "\u001b[1m1875/1875\u001b[0m \u001b[32m━━━━━━━━━━━━━━━━━━━━\u001b[0m\u001b[37m\u001b[0m \u001b[1m5s\u001b[0m 3ms/step - accuracy: 0.9831 - loss: 0.0546\n",
      "Epoch 6/10\n",
      "\u001b[1m1875/1875\u001b[0m \u001b[32m━━━━━━━━━━━━━━━━━━━━\u001b[0m\u001b[37m\u001b[0m \u001b[1m5s\u001b[0m 3ms/step - accuracy: 0.9877 - loss: 0.0413\n",
      "Epoch 7/10\n",
      "\u001b[1m1875/1875\u001b[0m \u001b[32m━━━━━━━━━━━━━━━━━━━━\u001b[0m\u001b[37m\u001b[0m \u001b[1m5s\u001b[0m 3ms/step - accuracy: 0.9888 - loss: 0.0356\n",
      "Epoch 8/10\n",
      "\u001b[1m1875/1875\u001b[0m \u001b[32m━━━━━━━━━━━━━━━━━━━━\u001b[0m\u001b[37m\u001b[0m \u001b[1m5s\u001b[0m 2ms/step - accuracy: 0.9917 - loss: 0.0285\n",
      "Epoch 9/10\n",
      "\u001b[1m1875/1875\u001b[0m \u001b[32m━━━━━━━━━━━━━━━━━━━━\u001b[0m\u001b[37m\u001b[0m \u001b[1m5s\u001b[0m 2ms/step - accuracy: 0.9929 - loss: 0.0231\n",
      "Epoch 10/10\n",
      "\u001b[1m1875/1875\u001b[0m \u001b[32m━━━━━━━━━━━━━━━━━━━━\u001b[0m\u001b[37m\u001b[0m \u001b[1m5s\u001b[0m 3ms/step - accuracy: 0.9947 - loss: 0.0187\n"
     ]
    },
    {
     "data": {
      "text/plain": [
       "<keras.src.callbacks.history.History at 0x7e3e180fbb10>"
      ]
     },
     "execution_count": 31,
     "metadata": {},
     "output_type": "execute_result"
    }
   ],
   "source": [
    "model = keras.Sequential([\n",
    "    keras.layers.Flatten(input_shape=(28, 28)),\n",
    "    keras.layers.Dense(100, activation='relu'),\n",
    "    keras.layers.Dense(10, activation='softmax')\n",
    "])\n",
    "\n",
    "model.compile(optimizer='adam',\n",
    "             loss='sparse_categorical_crossentropy',\n",
    "             metrics=['accuracy'])\n",
    "model.fit(X_train, y_train, epochs=10)"
   ]
  },
  {
   "cell_type": "code",
   "execution_count": 32,
   "id": "902024b9",
   "metadata": {
    "execution": {
     "iopub.execute_input": "2025-09-20T19:25:56.677873Z",
     "iopub.status.busy": "2025-09-20T19:25:56.677562Z",
     "iopub.status.idle": "2025-09-20T19:25:57.504065Z",
     "shell.execute_reply": "2025-09-20T19:25:57.503094Z"
    },
    "papermill": {
     "duration": 0.969697,
     "end_time": "2025-09-20T19:25:57.505644",
     "exception": false,
     "start_time": "2025-09-20T19:25:56.535947",
     "status": "completed"
    },
    "tags": []
   },
   "outputs": [
    {
     "name": "stdout",
     "output_type": "stream",
     "text": [
      "\u001b[1m313/313\u001b[0m \u001b[32m━━━━━━━━━━━━━━━━━━━━\u001b[0m\u001b[37m\u001b[0m \u001b[1m1s\u001b[0m 2ms/step - accuracy: 0.9722 - loss: 0.0988\n",
      "Test loss: 0.08437872678041458\n",
      "Test accuracy: 0.9764999747276306\n"
     ]
    }
   ],
   "source": [
    "loss, accuracy = model.evaluate(X_test, y_test)\n",
    "print('Test loss:', loss)\n",
    "print('Test accuracy:', accuracy)"
   ]
  },
  {
   "cell_type": "markdown",
   "id": "2c39b7c4",
   "metadata": {
    "papermill": {
     "duration": 0.137907,
     "end_time": "2025-09-20T19:25:57.852085",
     "exception": false,
     "start_time": "2025-09-20T19:25:57.714178",
     "status": "completed"
    },
    "tags": []
   },
   "source": [
    "different optimizer and activation"
   ]
  },
  {
   "cell_type": "code",
   "execution_count": 33,
   "id": "08a101f6",
   "metadata": {
    "execution": {
     "iopub.execute_input": "2025-09-20T19:25:58.128437Z",
     "iopub.status.busy": "2025-09-20T19:25:58.128098Z",
     "iopub.status.idle": "2025-09-20T19:26:38.817873Z",
     "shell.execute_reply": "2025-09-20T19:26:38.816989Z"
    },
    "papermill": {
     "duration": 40.829649,
     "end_time": "2025-09-20T19:26:38.819383",
     "exception": false,
     "start_time": "2025-09-20T19:25:57.989734",
     "status": "completed"
    },
    "tags": []
   },
   "outputs": [
    {
     "name": "stdout",
     "output_type": "stream",
     "text": [
      "Epoch 1/10\n",
      "\u001b[1m1875/1875\u001b[0m \u001b[32m━━━━━━━━━━━━━━━━━━━━\u001b[0m\u001b[37m\u001b[0m \u001b[1m4s\u001b[0m 2ms/step - accuracy: 0.7568 - loss: 0.9638\n",
      "Epoch 2/10\n",
      "\u001b[1m1875/1875\u001b[0m \u001b[32m━━━━━━━━━━━━━━━━━━━━\u001b[0m\u001b[37m\u001b[0m \u001b[1m4s\u001b[0m 2ms/step - accuracy: 0.8966 - loss: 0.3731\n",
      "Epoch 3/10\n",
      "\u001b[1m1875/1875\u001b[0m \u001b[32m━━━━━━━━━━━━━━━━━━━━\u001b[0m\u001b[37m\u001b[0m \u001b[1m4s\u001b[0m 2ms/step - accuracy: 0.9091 - loss: 0.3222\n",
      "Epoch 4/10\n",
      "\u001b[1m1875/1875\u001b[0m \u001b[32m━━━━━━━━━━━━━━━━━━━━\u001b[0m\u001b[37m\u001b[0m \u001b[1m4s\u001b[0m 2ms/step - accuracy: 0.9192 - loss: 0.2874\n",
      "Epoch 5/10\n",
      "\u001b[1m1875/1875\u001b[0m \u001b[32m━━━━━━━━━━━━━━━━━━━━\u001b[0m\u001b[37m\u001b[0m \u001b[1m4s\u001b[0m 2ms/step - accuracy: 0.9246 - loss: 0.2675\n",
      "Epoch 6/10\n",
      "\u001b[1m1875/1875\u001b[0m \u001b[32m━━━━━━━━━━━━━━━━━━━━\u001b[0m\u001b[37m\u001b[0m \u001b[1m4s\u001b[0m 2ms/step - accuracy: 0.9307 - loss: 0.2494\n",
      "Epoch 7/10\n",
      "\u001b[1m1875/1875\u001b[0m \u001b[32m━━━━━━━━━━━━━━━━━━━━\u001b[0m\u001b[37m\u001b[0m \u001b[1m4s\u001b[0m 2ms/step - accuracy: 0.9333 - loss: 0.2378\n",
      "Epoch 8/10\n",
      "\u001b[1m1875/1875\u001b[0m \u001b[32m━━━━━━━━━━━━━━━━━━━━\u001b[0m\u001b[37m\u001b[0m \u001b[1m4s\u001b[0m 2ms/step - accuracy: 0.9396 - loss: 0.2147\n",
      "Epoch 9/10\n",
      "\u001b[1m1875/1875\u001b[0m \u001b[32m━━━━━━━━━━━━━━━━━━━━\u001b[0m\u001b[37m\u001b[0m \u001b[1m4s\u001b[0m 2ms/step - accuracy: 0.9409 - loss: 0.2147\n",
      "Epoch 10/10\n",
      "\u001b[1m1875/1875\u001b[0m \u001b[32m━━━━━━━━━━━━━━━━━━━━\u001b[0m\u001b[37m\u001b[0m \u001b[1m4s\u001b[0m 2ms/step - accuracy: 0.9427 - loss: 0.2019\n"
     ]
    },
    {
     "data": {
      "text/plain": [
       "<keras.src.callbacks.history.History at 0x7e3df85af810>"
      ]
     },
     "execution_count": 33,
     "metadata": {},
     "output_type": "execute_result"
    }
   ],
   "source": [
    "model = keras.Sequential([\n",
    "    keras.layers.Flatten(input_shape=(28, 28)),\n",
    "    keras.layers.Dense(100, activation='tanh'),\n",
    "    keras.layers.Dense(10, activation='softmax')\n",
    "])\n",
    "\n",
    "model.compile(optimizer='sgd',\n",
    "             loss='sparse_categorical_crossentropy',\n",
    "             metrics=['accuracy'])\n",
    "model.fit(X_train, y_train, epochs=10)"
   ]
  },
  {
   "cell_type": "code",
   "execution_count": 34,
   "id": "fe4f5c65",
   "metadata": {
    "execution": {
     "iopub.execute_input": "2025-09-20T19:26:39.177454Z",
     "iopub.status.busy": "2025-09-20T19:26:39.177123Z",
     "iopub.status.idle": "2025-09-20T19:26:40.012692Z",
     "shell.execute_reply": "2025-09-20T19:26:40.011733Z"
    },
    "papermill": {
     "duration": 1.01645,
     "end_time": "2025-09-20T19:26:40.014075",
     "exception": false,
     "start_time": "2025-09-20T19:26:38.997625",
     "status": "completed"
    },
    "tags": []
   },
   "outputs": [
    {
     "name": "stdout",
     "output_type": "stream",
     "text": [
      "\u001b[1m313/313\u001b[0m \u001b[32m━━━━━━━━━━━━━━━━━━━━\u001b[0m\u001b[37m\u001b[0m \u001b[1m1s\u001b[0m 2ms/step - accuracy: 0.9335 - loss: 0.2222\n",
      "Test loss: 0.19220730662345886\n",
      "Test accuracy: 0.9438999891281128\n"
     ]
    }
   ],
   "source": [
    "loss, accuracy = model.evaluate(X_test, y_test)\n",
    "print('Test loss:', loss)\n",
    "print('Test accuracy:', accuracy)"
   ]
  },
  {
   "cell_type": "code",
   "execution_count": 35,
   "id": "af5ceba8",
   "metadata": {
    "execution": {
     "iopub.execute_input": "2025-09-20T19:26:40.375399Z",
     "iopub.status.busy": "2025-09-20T19:26:40.374584Z",
     "iopub.status.idle": "2025-09-20T19:27:25.835127Z",
     "shell.execute_reply": "2025-09-20T19:27:25.834167Z"
    },
    "papermill": {
     "duration": 45.638503,
     "end_time": "2025-09-20T19:27:25.836766",
     "exception": false,
     "start_time": "2025-09-20T19:26:40.198263",
     "status": "completed"
    },
    "tags": []
   },
   "outputs": [
    {
     "name": "stdout",
     "output_type": "stream",
     "text": [
      "Epoch 1/10\n",
      "\u001b[1m1875/1875\u001b[0m \u001b[32m━━━━━━━━━━━━━━━━━━━━\u001b[0m\u001b[37m\u001b[0m \u001b[1m5s\u001b[0m 2ms/step - accuracy: 0.8804 - loss: 0.4216\n",
      "Epoch 2/10\n",
      "\u001b[1m1875/1875\u001b[0m \u001b[32m━━━━━━━━━━━━━━━━━━━━\u001b[0m\u001b[37m\u001b[0m \u001b[1m4s\u001b[0m 2ms/step - accuracy: 0.9610 - loss: 0.1351\n",
      "Epoch 3/10\n",
      "\u001b[1m1875/1875\u001b[0m \u001b[32m━━━━━━━━━━━━━━━━━━━━\u001b[0m\u001b[37m\u001b[0m \u001b[1m4s\u001b[0m 2ms/step - accuracy: 0.9726 - loss: 0.0936\n",
      "Epoch 4/10\n",
      "\u001b[1m1875/1875\u001b[0m \u001b[32m━━━━━━━━━━━━━━━━━━━━\u001b[0m\u001b[37m\u001b[0m \u001b[1m4s\u001b[0m 2ms/step - accuracy: 0.9793 - loss: 0.0720\n",
      "Epoch 5/10\n",
      "\u001b[1m1875/1875\u001b[0m \u001b[32m━━━━━━━━━━━━━━━━━━━━\u001b[0m\u001b[37m\u001b[0m \u001b[1m4s\u001b[0m 2ms/step - accuracy: 0.9825 - loss: 0.0603\n",
      "Epoch 6/10\n",
      "\u001b[1m1875/1875\u001b[0m \u001b[32m━━━━━━━━━━━━━━━━━━━━\u001b[0m\u001b[37m\u001b[0m \u001b[1m4s\u001b[0m 2ms/step - accuracy: 0.9839 - loss: 0.0521\n",
      "Epoch 7/10\n",
      "\u001b[1m1875/1875\u001b[0m \u001b[32m━━━━━━━━━━━━━━━━━━━━\u001b[0m\u001b[37m\u001b[0m \u001b[1m4s\u001b[0m 2ms/step - accuracy: 0.9865 - loss: 0.0458\n",
      "Epoch 8/10\n",
      "\u001b[1m1875/1875\u001b[0m \u001b[32m━━━━━━━━━━━━━━━━━━━━\u001b[0m\u001b[37m\u001b[0m \u001b[1m4s\u001b[0m 2ms/step - accuracy: 0.9879 - loss: 0.0422\n",
      "Epoch 9/10\n",
      "\u001b[1m1875/1875\u001b[0m \u001b[32m━━━━━━━━━━━━━━━━━━━━\u001b[0m\u001b[37m\u001b[0m \u001b[1m4s\u001b[0m 2ms/step - accuracy: 0.9908 - loss: 0.0332\n",
      "Epoch 10/10\n",
      "\u001b[1m1875/1875\u001b[0m \u001b[32m━━━━━━━━━━━━━━━━━━━━\u001b[0m\u001b[37m\u001b[0m \u001b[1m4s\u001b[0m 2ms/step - accuracy: 0.9916 - loss: 0.0299\n"
     ]
    },
    {
     "data": {
      "text/plain": [
       "<keras.src.callbacks.history.History at 0x7e3df85ab110>"
      ]
     },
     "execution_count": 35,
     "metadata": {},
     "output_type": "execute_result"
    }
   ],
   "source": [
    "model_2 = keras.Sequential([\n",
    "    keras.layers.Flatten(input_shape=(28, 28)),\n",
    "    keras.layers.Dense(100, activation='relu'),\n",
    "    keras.layers.Dense(10, activation='sigmoid')\n",
    "])\n",
    "\n",
    "model_2.compile(optimizer='rmsprop',\n",
    "             loss='sparse_categorical_crossentropy',\n",
    "             metrics=['accuracy'])\n",
    "model_2.fit(X_train, y_train, epochs=10)"
   ]
  },
  {
   "cell_type": "code",
   "execution_count": 36,
   "id": "c6177794",
   "metadata": {
    "execution": {
     "iopub.execute_input": "2025-09-20T19:27:26.358263Z",
     "iopub.status.busy": "2025-09-20T19:27:26.357954Z",
     "iopub.status.idle": "2025-09-20T19:27:27.169550Z",
     "shell.execute_reply": "2025-09-20T19:27:27.168461Z"
    },
    "papermill": {
     "duration": 1.037738,
     "end_time": "2025-09-20T19:27:27.170963",
     "exception": false,
     "start_time": "2025-09-20T19:27:26.133225",
     "status": "completed"
    },
    "tags": []
   },
   "outputs": [
    {
     "name": "stdout",
     "output_type": "stream",
     "text": [
      "\u001b[1m313/313\u001b[0m \u001b[32m━━━━━━━━━━━━━━━━━━━━\u001b[0m\u001b[37m\u001b[0m \u001b[1m1s\u001b[0m 2ms/step - accuracy: 0.9734 - loss: 0.1048\n",
      "Test loss: 0.08936374634504318\n",
      "Test accuracy: 0.9775000214576721\n"
     ]
    }
   ],
   "source": [
    "loss, accuracy = model_2.evaluate(X_test, y_test)\n",
    "print('Test loss:', loss)\n",
    "print('Test accuracy:', accuracy)"
   ]
  },
  {
   "cell_type": "code",
   "execution_count": 37,
   "id": "2e79b07b",
   "metadata": {
    "execution": {
     "iopub.execute_input": "2025-09-20T19:27:27.615847Z",
     "iopub.status.busy": "2025-09-20T19:27:27.615539Z",
     "iopub.status.idle": "2025-09-20T19:27:28.683195Z",
     "shell.execute_reply": "2025-09-20T19:27:28.682354Z"
    },
    "papermill": {
     "duration": 1.289897,
     "end_time": "2025-09-20T19:27:28.684744",
     "exception": false,
     "start_time": "2025-09-20T19:27:27.394847",
     "status": "completed"
    },
    "tags": []
   },
   "outputs": [
    {
     "name": "stdout",
     "output_type": "stream",
     "text": [
      "\u001b[1m313/313\u001b[0m \u001b[32m━━━━━━━━━━━━━━━━━━━━\u001b[0m\u001b[37m\u001b[0m \u001b[1m0s\u001b[0m 1ms/step\n"
     ]
    },
    {
     "data": {
      "image/png": "[encoded data removed]",
      "text/plain": [
       "<Figure size 1000x700 with 2 Axes>"
      ]
     },
     "metadata": {},
     "output_type": "display_data"
    }
   ],
   "source": [
    "y_pred = model_2.predict(X_test)\n",
    "y_pred_labels = np.argmax(y_pred, axis=1)\n",
    "\n",
    "cm = tf.math.confusion_matrix(labels=y_test, predictions=y_pred_labels)\n",
    "\n",
    "plt.figure(figsize=(10,7))\n",
    "sns.heatmap(cm, annot=True, fmt='d', cmap='Blues')\n",
    "plt.xlabel('Predicted')\n",
    "plt.ylabel('Truth')\n",
    "plt.title('MNIST Confusion Matrix')\n",
    "plt.show()"
   ]
  },
  {
   "cell_type": "markdown",
   "id": "34d7d41f",
   "metadata": {
    "papermill": {
     "duration": 0.226079,
     "end_time": "2025-09-20T19:27:29.138598",
     "exception": false,
     "start_time": "2025-09-20T19:27:28.912519",
     "status": "completed"
    },
    "tags": []
   },
   "source": [
    "## compare multiple models with different optimizers, loss functions, and activations by running them in loops and storing their results in a table."
   ]
  },
  {
   "cell_type": "code",
   "execution_count": 38,
   "id": "ea2556ae",
   "metadata": {
    "execution": {
     "iopub.execute_input": "2025-09-20T19:27:29.647692Z",
     "iopub.status.busy": "2025-09-20T19:27:29.647365Z",
     "iopub.status.idle": "2025-09-20T19:27:29.653235Z",
     "shell.execute_reply": "2025-09-20T19:27:29.652402Z"
    },
    "papermill": {
     "duration": 0.229427,
     "end_time": "2025-09-20T19:27:29.654702",
     "exception": false,
     "start_time": "2025-09-20T19:27:29.425275",
     "status": "completed"
    },
    "tags": []
   },
   "outputs": [],
   "source": [
    "optimizers = ['adam', 'sgd', 'rmsprop', 'adagrad']\n",
    "losses = ['sparse_categorical_crossentropy']\n",
    "activations = ['relu', 'tanh', 'sigmoid']\n",
    "\n",
    "\n",
    "def build_model(optimizer, loss, activation):\n",
    "    model = keras.Sequential([\n",
    "        keras.layers.Flatten(input_shape=(28,28)),\n",
    "        keras.layers.Dense(128, activation=activation),\n",
    "        keras.layers.Dense(10, activation='softmax')  # softmax for multi-class\n",
    "    ])\n",
    "    model.compile(optimizer=optimizer,\n",
    "                  loss=loss,\n",
    "                  metrics=['accuracy'])\n",
    "    return model"
   ]
  },
  {
   "cell_type": "code",
   "execution_count": 39,
   "id": "24e73484",
   "metadata": {
    "execution": {
     "iopub.execute_input": "2025-09-20T19:27:30.102031Z",
     "iopub.status.busy": "2025-09-20T19:27:30.101576Z",
     "iopub.status.idle": "2025-09-20T19:33:00.723325Z",
     "shell.execute_reply": "2025-09-20T19:33:00.722358Z"
    },
    "papermill": {
     "duration": 330.848117,
     "end_time": "2025-09-20T19:33:00.724950",
     "exception": false,
     "start_time": "2025-09-20T19:27:29.876833",
     "status": "completed"
    },
    "tags": []
   },
   "outputs": [
    {
     "name": "stdout",
     "output_type": "stream",
     "text": [
      "Training model with optimizer=adam, loss=sparse_categorical_crossentropy, activation=relu\n"
     ]
    },
    {
     "name": "stderr",
     "output_type": "stream",
     "text": [
      "/usr/local/lib/python3.11/dist-packages/keras/src/layers/reshaping/flatten.py:37: UserWarning: Do not pass an `input_shape`/`input_dim` argument to a layer. When using Sequential models, prefer using an `Input(shape)` object as the first layer in the model instead.\n",
      "  super().__init__(**kwargs)\n"
     ]
    },
    {
     "name": "stdout",
     "output_type": "stream",
     "text": [
      "Training model with optimizer=adam, loss=sparse_categorical_crossentropy, activation=tanh\n",
      "Training model with optimizer=adam, loss=sparse_categorical_crossentropy, activation=sigmoid\n",
      "Training model with optimizer=sgd, loss=sparse_categorical_crossentropy, activation=relu\n",
      "Training model with optimizer=sgd, loss=sparse_categorical_crossentropy, activation=tanh\n",
      "Training model with optimizer=sgd, loss=sparse_categorical_crossentropy, activation=sigmoid\n",
      "Training model with optimizer=rmsprop, loss=sparse_categorical_crossentropy, activation=relu\n",
      "Training model with optimizer=rmsprop, loss=sparse_categorical_crossentropy, activation=tanh\n",
      "Training model with optimizer=rmsprop, loss=sparse_categorical_crossentropy, activation=sigmoid\n",
      "Training model with optimizer=adagrad, loss=sparse_categorical_crossentropy, activation=relu\n",
      "Training model with optimizer=adagrad, loss=sparse_categorical_crossentropy, activation=tanh\n",
      "Training model with optimizer=adagrad, loss=sparse_categorical_crossentropy, activation=sigmoid\n"
     ]
    },
    {
     "data": {
      "text/html": [
       "<div>\n",
       "<style scoped>\n",
       "    .dataframe tbody tr th:only-of-type {\n",
       "        vertical-align: middle;\n",
       "    }\n",
       "\n",
       "    .dataframe tbody tr th {\n",
       "        vertical-align: top;\n",
       "    }\n",
       "\n",
       "    .dataframe thead th {\n",
       "        text-align: right;\n",
       "    }\n",
       "</style>\n",
       "<table border=\"1\" class=\"dataframe\">\n",
       "  <thead>\n",
       "    <tr style=\"text-align: right;\">\n",
       "      <th></th>\n",
       "      <th>Optimizer</th>\n",
       "      <th>Loss</th>\n",
       "      <th>Activation</th>\n",
       "      <th>Test Loss</th>\n",
       "      <th>Test Accuracy</th>\n",
       "    </tr>\n",
       "  </thead>\n",
       "  <tbody>\n",
       "    <tr>\n",
       "      <th>0</th>\n",
       "      <td>adam</td>\n",
       "      <td>sparse_categorical_crossentropy</td>\n",
       "      <td>relu</td>\n",
       "      <td>0.075563</td>\n",
       "      <td>0.9779</td>\n",
       "    </tr>\n",
       "    <tr>\n",
       "      <th>6</th>\n",
       "      <td>rmsprop</td>\n",
       "      <td>sparse_categorical_crossentropy</td>\n",
       "      <td>relu</td>\n",
       "      <td>0.088315</td>\n",
       "      <td>0.9757</td>\n",
       "    </tr>\n",
       "    <tr>\n",
       "      <th>1</th>\n",
       "      <td>adam</td>\n",
       "      <td>sparse_categorical_crossentropy</td>\n",
       "      <td>tanh</td>\n",
       "      <td>0.080574</td>\n",
       "      <td>0.9756</td>\n",
       "    </tr>\n",
       "    <tr>\n",
       "      <th>7</th>\n",
       "      <td>rmsprop</td>\n",
       "      <td>sparse_categorical_crossentropy</td>\n",
       "      <td>tanh</td>\n",
       "      <td>0.083350</td>\n",
       "      <td>0.9740</td>\n",
       "    </tr>\n",
       "    <tr>\n",
       "      <th>2</th>\n",
       "      <td>adam</td>\n",
       "      <td>sparse_categorical_crossentropy</td>\n",
       "      <td>sigmoid</td>\n",
       "      <td>0.101084</td>\n",
       "      <td>0.9699</td>\n",
       "    </tr>\n",
       "    <tr>\n",
       "      <th>8</th>\n",
       "      <td>rmsprop</td>\n",
       "      <td>sparse_categorical_crossentropy</td>\n",
       "      <td>sigmoid</td>\n",
       "      <td>0.100675</td>\n",
       "      <td>0.9696</td>\n",
       "    </tr>\n",
       "    <tr>\n",
       "      <th>3</th>\n",
       "      <td>sgd</td>\n",
       "      <td>sparse_categorical_crossentropy</td>\n",
       "      <td>relu</td>\n",
       "      <td>0.225619</td>\n",
       "      <td>0.9354</td>\n",
       "    </tr>\n",
       "    <tr>\n",
       "      <th>4</th>\n",
       "      <td>sgd</td>\n",
       "      <td>sparse_categorical_crossentropy</td>\n",
       "      <td>tanh</td>\n",
       "      <td>0.253601</td>\n",
       "      <td>0.9293</td>\n",
       "    </tr>\n",
       "    <tr>\n",
       "      <th>9</th>\n",
       "      <td>adagrad</td>\n",
       "      <td>sparse_categorical_crossentropy</td>\n",
       "      <td>relu</td>\n",
       "      <td>0.380037</td>\n",
       "      <td>0.9025</td>\n",
       "    </tr>\n",
       "    <tr>\n",
       "      <th>10</th>\n",
       "      <td>adagrad</td>\n",
       "      <td>sparse_categorical_crossentropy</td>\n",
       "      <td>tanh</td>\n",
       "      <td>0.392017</td>\n",
       "      <td>0.8999</td>\n",
       "    </tr>\n",
       "    <tr>\n",
       "      <th>5</th>\n",
       "      <td>sgd</td>\n",
       "      <td>sparse_categorical_crossentropy</td>\n",
       "      <td>sigmoid</td>\n",
       "      <td>0.374118</td>\n",
       "      <td>0.8988</td>\n",
       "    </tr>\n",
       "    <tr>\n",
       "      <th>11</th>\n",
       "      <td>adagrad</td>\n",
       "      <td>sparse_categorical_crossentropy</td>\n",
       "      <td>sigmoid</td>\n",
       "      <td>0.949764</td>\n",
       "      <td>0.8322</td>\n",
       "    </tr>\n",
       "  </tbody>\n",
       "</table>\n",
       "</div>"
      ],
      "text/plain": [
       "   Optimizer                             Loss Activation  Test Loss  \\\n",
       "0       adam  sparse_categorical_crossentropy       relu   0.075563   \n",
       "6    rmsprop  sparse_categorical_crossentropy       relu   0.088315   \n",
       "1       adam  sparse_categorical_crossentropy       tanh   0.080574   \n",
       "7    rmsprop  sparse_categorical_crossentropy       tanh   0.083350   \n",
       "2       adam  sparse_categorical_crossentropy    sigmoid   0.101084   \n",
       "8    rmsprop  sparse_categorical_crossentropy    sigmoid   0.100675   \n",
       "3        sgd  sparse_categorical_crossentropy       relu   0.225619   \n",
       "4        sgd  sparse_categorical_crossentropy       tanh   0.253601   \n",
       "9    adagrad  sparse_categorical_crossentropy       relu   0.380037   \n",
       "10   adagrad  sparse_categorical_crossentropy       tanh   0.392017   \n",
       "5        sgd  sparse_categorical_crossentropy    sigmoid   0.374118   \n",
       "11   adagrad  sparse_categorical_crossentropy    sigmoid   0.949764   \n",
       "\n",
       "    Test Accuracy  \n",
       "0          0.9779  \n",
       "6          0.9757  \n",
       "1          0.9756  \n",
       "7          0.9740  \n",
       "2          0.9699  \n",
       "8          0.9696  \n",
       "3          0.9354  \n",
       "4          0.9293  \n",
       "9          0.9025  \n",
       "10         0.8999  \n",
       "5          0.8988  \n",
       "11         0.8322  "
      ]
     },
     "execution_count": 39,
     "metadata": {},
     "output_type": "execute_result"
    }
   ],
   "source": [
    "import pandas as pd\n",
    "\n",
    "results = []\n",
    "\n",
    "for opt in optimizers:\n",
    "    for loss in losses:\n",
    "        for act in activations:\n",
    "            print(f\"Training model with optimizer={opt}, loss={loss}, activation={act}\")\n",
    "            model = build_model(opt, loss, act)\n",
    "            history = model.fit(X_train, y_train, epochs=5, validation_data=(X_test, y_test), verbose=0)\n",
    "            \n",
    "            # Evaluate on test set\n",
    "            loss_val, acc_val = model.evaluate(X_test, y_test, verbose=0)\n",
    "            \n",
    "            # Store results\n",
    "            results.append({\n",
    "                'Optimizer': opt,\n",
    "                'Loss': loss,\n",
    "                'Activation': act,\n",
    "                'Test Loss': loss_val,\n",
    "                'Test Accuracy': acc_val\n",
    "            })\n",
    "\n",
    "# Convert to DataFrame for easy comparison\n",
    "results_df = pd.DataFrame(results)\n",
    "results_df = results_df.sort_values(by='Test Accuracy', ascending=False)\n",
    "results_df\n"
   ]
  },
  {
   "cell_type": "code",
   "execution_count": 40,
   "id": "ea8a5a3f",
   "metadata": {
    "execution": {
     "iopub.execute_input": "2025-09-20T19:33:01.211983Z",
     "iopub.status.busy": "2025-09-20T19:33:01.211682Z",
     "iopub.status.idle": "2025-09-20T19:33:01.445678Z",
     "shell.execute_reply": "2025-09-20T19:33:01.444754Z"
    },
    "papermill": {
     "duration": 0.492948,
     "end_time": "2025-09-20T19:33:01.447145",
     "exception": false,
     "start_time": "2025-09-20T19:33:00.954197",
     "status": "completed"
    },
    "tags": []
   },
   "outputs": [
    {
     "data": {
      "image/png": "[encoded data removed]",
      "text/plain": [
       "<Figure size 1200x600 with 1 Axes>"
      ]
     },
     "metadata": {},
     "output_type": "display_data"
    }
   ],
   "source": [
    "plt.figure(figsize=(12,6))\n",
    "sns.barplot(x='Test Accuracy', y='Optimizer', hue='Activation', data=results_df)\n",
    "plt.title('MNIST Accuracy Comparison Across Optimizers and Activations')\n",
    "plt.show()"
   ]
  },
  {
   "cell_type": "code",
   "execution_count": null,
   "id": "e04e59a9",
   "metadata": {
    "papermill": {
     "duration": 0.293834,
     "end_time": "2025-09-20T19:33:01.968851",
     "exception": false,
     "start_time": "2025-09-20T19:33:01.675017",
     "status": "completed"
    },
    "tags": []
   },
   "outputs": [],
   "source": []
  }
 ],
 "metadata": {
  "kaggle": {
   "accelerator": "none",
   "dataSources": [],
   "dockerImageVersionId": 31089,
   "isGpuEnabled": false,
   "isInternetEnabled": true,
   "language": "python",
   "sourceType": "notebook"
  },
  "kernelspec": {
   "display_name": "Python 3",
   "language": "python",
   "name": "python3"
  },
  "language_info": {
   "codemirror_mode": {
    "name": "ipython",
    "version": 3
   },
   "file_extension": ".py",
   "mimetype": "text/x-python",
   "name": "python",
   "nbconvert_exporter": "python",
   "pygments_lexer": "ipython3",
   "version": "3.11.13"
  },
  "papermill": {
   "default_parameters": {},
   "duration": 597.259209,
   "end_time": "2025-09-20T19:33:05.403953",
   "environment_variables": {},
   "exception": null,
   "input_path": "__notebook__.ipynb",
   "output_path": "__notebook__.ipynb",
   "parameters": {},
   "start_time": "2025-09-20T19:23:08.144744",
   "version": "2.6.0"
  }
 },
 "nbformat": 4,
 "nbformat_minor": 5
}
